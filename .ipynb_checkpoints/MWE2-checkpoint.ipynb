{
 "cells": [
  {
   "cell_type": "code",
   "execution_count": 18,
   "metadata": {},
   "outputs": [
    {
     "data": {
      "application/vnd.jupyter.widget-view+json": {
       "model_id": "08bd5a15e40e40e98d9d497e3d9b27ec",
       "version_major": 2,
       "version_minor": 0
      },
      "text/plain": [
       "VBox(children=(Dropdown(description='#_0', options=('A', 'B', 'C'), value='A'), Dropdown(description='#_1', op…"
      ]
     },
     "metadata": {},
     "output_type": "display_data"
    },
    {
     "data": {
      "application/vnd.jupyter.widget-view+json": {
       "model_id": "600df5f983ae46718274b0fcc8863f59",
       "version_major": 2,
       "version_minor": 0
      },
      "text/plain": [
       "Output()"
      ]
     },
     "metadata": {},
     "output_type": "display_data"
    }
   ],
   "source": [
    "import ipywidgets as widgets\n",
    "\n",
    "Etiquetas = []\n",
    "for i in range(0, 3, 1):\n",
    "    Etiquetas.append('#_' + str(i))\n",
    "    \n",
    "EtiquetasMenues = [widgets.Label(value=name) for name in Etiquetas]\n",
    "\n",
    "Menues = [widgets.Dropdown(\n",
    "    options=['A', 'B', 'C'],\n",
    "    value='A',\n",
    "    description = name,\n",
    "    disabled=False,\n",
    "    ) for name in Etiquetas]\n",
    "\n",
    "output = widgets.Output()\n",
    "\n",
    "def on_value_change(change):\n",
    "    with output:\n",
    "        signal = Menues.description\n",
    "        print(signal)\n",
    "        #print(change['new'])\n",
    "\n",
    "Menues[0].observe(on_value_change, names='value')\n",
    "Menues[1].observe(on_value_change, names='value')\n",
    "Menues[2].observe(on_value_change, names='value')\n",
    "\n",
    "display(widgets.VBox(Menues), output)"
   ]
  },
  {
   "cell_type": "code",
   "execution_count": 24,
   "metadata": {},
   "outputs": [
    {
     "data": {
      "application/vnd.jupyter.widget-view+json": {
       "model_id": "55d697bf55f84ee1a484b43c862ec90f",
       "version_major": 2,
       "version_minor": 0
      },
      "text/plain": [
       "VBox(children=(IntSlider(value=0), IntSlider(value=0), IntSlider(value=0), IntSlider(value=0)))"
      ]
     },
     "metadata": {},
     "output_type": "display_data"
    }
   ],
   "source": [
    "widget_list = []\n",
    "def obs(change):\n",
    "    with output:\n",
    "        index = widget_list.index(change.owner)\n",
    "        print(index)\n",
    "\n",
    "def fun(n):\n",
    "    global widget_list\n",
    "    for i in range(n):\n",
    "        slider = widgets.IntSlider()\n",
    "        widget_list.append(slider)\n",
    "        slider.observe(obs, names='value')\n",
    "    display(widgets.VBox(widget_list))\n",
    "fun(4)"
   ]
  }
 ],
 "metadata": {
  "kernelspec": {
   "display_name": "Python 3",
   "language": "python",
   "name": "python3"
  },
  "language_info": {
   "codemirror_mode": {
    "name": "ipython",
    "version": 3
   },
   "file_extension": ".py",
   "mimetype": "text/x-python",
   "name": "python",
   "nbconvert_exporter": "python",
   "pygments_lexer": "ipython3",
   "version": "3.7.3"
  }
 },
 "nbformat": 4,
 "nbformat_minor": 4
}
