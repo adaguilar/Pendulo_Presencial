{
 "cells": [
  {
   "cell_type": "markdown",
   "metadata": {},
   "source": [
    "# Práctica presencial péndulo\n",
    "\n",
    "## Introducción"
   ]
  },
  {
   "cell_type": "markdown",
   "metadata": {},
   "source": [
    "En esta práctica se propone aplicar el método científico para investigar que parámetros influyen en el período de un péndulo simple.\n",
    "Se prevé que la realización de la misma se lleve a cabo utilizando el péndulo simple disponible en el laboratorio de física de la facultad, el cual está instrumentado con un emisor láser, un detector óptico, una obstrucción del haz y una mása cuya posición se puede ajustar para modificar la longitud efectiva del péndulo.\n",
    "\n",
    "En este cuaderno se prevén las herramientas necesarias para realizar la adquisición de datos y exportarlos para analisis posterior."
   ]
  },
  {
   "cell_type": "markdown",
   "metadata": {},
   "source": [
    "### Péndulo"
   ]
  },
  {
   "cell_type": "markdown",
   "metadata": {},
   "source": [
    "El péndulo disponible en el laboraotorio es como el de la imágen:\n",
    "<center>\n",
    "    <img src=\"Pendulo_1.png\" alt=\"Drawing\" style=\"width: 300px;\"/>\n",
    "</center>"
   ]
  },
  {
   "cell_type": "markdown",
   "metadata": {},
   "source": [
    "El mismo posee una protuberancia, resaltada en rojo, en el extremo de su brazo que obtura el haz entre el láser y el detector que permitira identificar cuando el péndulo está en posición vertical.\n",
    "<center>\n",
    "    <img src=\"Pendulo_2.png\" alt=\"Drawing\" style=\"width: 200px;\"/>\n",
    "</center>"
   ]
  },
  {
   "cell_type": "markdown",
   "metadata": {},
   "source": [
    "## Parte experimental"
   ]
  },
  {
   "cell_type": "code",
   "execution_count": 37,
   "metadata": {},
   "outputs": [
    {
     "data": {
      "application/vnd.jupyter.widget-view+json": {
       "model_id": "ef2540d08a86433290315265719466d9",
       "version_major": 2,
       "version_minor": 0
      },
      "text/plain": [
       "interactive(children=(ToggleButton(value=False, button_style='danger', description='LASER', icon='check', tool…"
      ]
     },
     "metadata": {},
     "output_type": "display_data"
    },
    {
     "data": {
      "application/vnd.jupyter.widget-view+json": {
       "model_id": "8e356cff4a9b4cfa83624a6d616780fe",
       "version_major": 2,
       "version_minor": 0
      },
      "text/plain": [
       "interactive(children=(ToggleButton(value=False, button_style='info', description='Iniciar', icon='play-circle'…"
      ]
     },
     "metadata": {},
     "output_type": "display_data"
    },
    {
     "data": {
      "application/vnd.jupyter.widget-view+json": {
       "model_id": "2fcc572a028c499692d1bf56e7fac89a",
       "version_major": 2,
       "version_minor": 0
      },
      "text/plain": [
       "IntSlider(value=1, continuous_update=False, description='$T_{adq}$:', max=10, min=1)"
      ]
     },
     "metadata": {},
     "output_type": "display_data"
    }
   ],
   "source": [
    "import ipywidgets as widgets\n",
    "from ipywidgets import interact#, interactive, fixed, interact_manual\n",
    "\n",
    "\n",
    "\n",
    "def fun(BotLas):\n",
    "    if BotLas == True:\n",
    "        print('Laser Prende')\n",
    "    else:\n",
    "        print('Laser Apaga')\n",
    "        \n",
    "IBotLas = interact(fun, BotLas=widgets.ToggleButton(value=False,\n",
    "    description='LASER',\n",
    "    disabled=False,\n",
    "    button_style='danger', # 'success', 'info', 'warning', 'danger' or ''\n",
    "    tooltip='Description',\n",
    "    icon='check'\n",
    "))\n",
    "\n",
    "def fun2(BotIni):\n",
    "    if BotIni == True:\n",
    "        print('Adquiere')\n",
    "    else:\n",
    "        print('Termina')\n",
    "\n",
    "IBotIni = interact(fun2, BotIni=widgets.ToggleButton(value=False,\n",
    "    description='Iniciar',\n",
    "    disabled=False,\n",
    "    button_style='info', # 'success', 'info', 'warning', 'danger' or ''\n",
    "    tooltip='Description',\n",
    "    icon='play-circle'\n",
    "))\n",
    "\n",
    "IDesTAdq = widgets.IntSlider(\n",
    "    value=1,\n",
    "    min=1,\n",
    "    max=10,\n",
    "    step=1,\n",
    "    description='$T_{adq}$:',\n",
    "    disabled=False,\n",
    "    continuous_update=False,\n",
    "    orientation='horizontal',\n",
    "    readout=True,\n",
    "    readout_format='d'\n",
    ")\n",
    "\n",
    "IDesTAdq"
   ]
  },
  {
   "cell_type": "code",
   "execution_count": 36,
   "metadata": {},
   "outputs": [
    {
     "data": {
      "application/vnd.jupyter.widget-view+json": {
       "model_id": "81eb8c21b3574c98aec57e87e18569dc",
       "version_major": 2,
       "version_minor": 0
      },
      "text/plain": [
       "IntSlider(value=1, continuous_update=False, description='$Ángulo_{ini}$:', max=10, min=1)"
      ]
     },
     "metadata": {},
     "output_type": "display_data"
    }
   ],
   "source": [
    "IDesAngIni = widgets.IntSlider(\n",
    "    value=1,\n",
    "    min=1,\n",
    "    max=10,\n",
    "    step=1,\n",
    "    description='$Ángulo_{ini}$:',\n",
    "    disabled=False,\n",
    "    continuous_update=False,\n",
    "    orientation='horizontal',\n",
    "    readout=True,\n",
    "    readout_format='d'\n",
    ")\n",
    "\n",
    "IDesAngIni"
   ]
  }
 ],
 "metadata": {
  "kernelspec": {
   "display_name": "Python 3",
   "language": "python",
   "name": "python3"
  },
  "language_info": {
   "codemirror_mode": {
    "name": "ipython",
    "version": 3
   },
   "file_extension": ".py",
   "mimetype": "text/x-python",
   "name": "python",
   "nbconvert_exporter": "python",
   "pygments_lexer": "ipython3",
   "version": "3.7.3"
  }
 },
 "nbformat": 4,
 "nbformat_minor": 4
}
