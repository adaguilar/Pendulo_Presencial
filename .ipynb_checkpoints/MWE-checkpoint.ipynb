{
 "cells": [
  {
   "cell_type": "code",
   "execution_count": 3,
   "metadata": {},
   "outputs": [
    {
     "data": {
      "application/vnd.jupyter.widget-view+json": {
       "model_id": "7a024c12c7644fa2a3aef7bad191fc0a",
       "version_major": 2,
       "version_minor": 0
      },
      "text/plain": [
       "VBox(children=(Output(), Output()))"
      ]
     },
     "metadata": {},
     "output_type": "display_data"
    },
    {
     "data": {
      "image/png": "[encoded data removed]",
      "text/plain": [
       "<Figure size 216x144 with 1 Axes>"
      ]
     },
     "metadata": {
      "needs_background": "light"
     },
     "output_type": "display_data"
    }
   ],
   "source": [
    "#https://kapernikov.com/ipywidgets-with-matplotlib/\n",
    "import ipywidgets as widgets\n",
    "from IPython.display import display\n",
    "import numpy as np\n",
    "import matplotlib.pyplot as plt\n",
    "\n",
    "\n",
    "SalidaEjes = widgets.Output()\n",
    "\n",
    "x = np.linspace(0, 2 * np.pi, 100)\n",
    "\n",
    "with SalidaEjes:\n",
    "    fig, ax = plt.subplots(figsize=(3, 2))\n",
    "    line, = ax.plot(x, np.sin(x))\n",
    "\n",
    "from IPython.display import YouTubeVideo\n",
    "\n",
    "SalidaVideo = widgets.Output()\n",
    "\n",
    "with SalidaVideo:\n",
    "    display(YouTubeVideo('RdMj0iMCYfE', width=200, height=200))\n",
    "\n",
    "Salidas = widgets.VBox([SalidaEjes, SalidaVideo])\n",
    "display(Salidas)"
   ]
  },
  {
   "cell_type": "code",
   "execution_count": null,
   "metadata": {},
   "outputs": [],
   "source": []
  }
 ],
 "metadata": {
  "kernelspec": {
   "display_name": "Python 3",
   "language": "python",
   "name": "python3"
  },
  "language_info": {
   "codemirror_mode": {
    "name": "ipython",
    "version": 3
   },
   "file_extension": ".py",
   "mimetype": "text/x-python",
   "name": "python",
   "nbconvert_exporter": "python",
   "pygments_lexer": "ipython3",
   "version": "3.7.3"
  }
 },
 "nbformat": 4,
 "nbformat_minor": 4
}
